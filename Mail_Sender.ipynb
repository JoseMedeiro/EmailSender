{
 "cells": [
  {
   "cell_type": "code",
   "execution_count": 1,
   "metadata": {},
   "outputs": [],
   "source": [
    "from library.file_manager   import read_cvs, read_json, write_json\n",
    "from library.mail_manager   import create_and_send_emails\n",
    "from library.basic_utils    import find_in_array_dict, unique_array_dict"
   ]
  },
  {
   "cell_type": "code",
   "execution_count": 2,
   "metadata": {},
   "outputs": [],
   "source": [
    "def remove_sent_emails(all:list,sent:list,query_keys:list=['_id'])->list:\n",
    "    unsent      = list()\n",
    "    sent_query  = [e['fields'] for e in sent]\n",
    "    for a in all:\n",
    "        query = {}\n",
    "        for k in query_keys:\n",
    "            query[k] = a['fields'][k]\n",
    "        if find_in_array_dict(sent_query,query) == -1:\n",
    "            unsent.append(a)\n",
    "    return unsent\n",
    "\n",
    "def get_unsent_emails(all_db:str, sent_db:str,all_func=read_json,read_func=read_json,query_keys:list=['_id']):\n",
    "\n",
    "    all     = all_func(all_db)\n",
    "    sent    = read_func(sent_db)\n",
    "\n",
    "    unsent  = unique_array_dict(remove_sent_emails(all,sent,query_keys=query_keys),query_keys=query_keys)\n",
    "\n",
    "    return unsent"
   ]
  },
  {
   "cell_type": "code",
   "execution_count": 3,
   "metadata": {},
   "outputs": [],
   "source": [
    "# Filenames\n",
    "FILENAME_ALL = './localhost_manual/demo.json'            \n",
    "FILENAME_SENT= '.'.join(FILENAME_ALL.split('.')[:-1])+'-SENT.'+FILENAME_ALL.split('.')[-1]\n",
    "# Custom reciever for the eventual check\n",
    "C_RECIEVER      = {'To':'josemedeiro@tecnico.ulisboa.pt',\n",
    "                   'Cc':None,\n",
    "                   'Bcc':None}"
   ]
  },
  {
   "cell_type": "code",
   "execution_count": 4,
   "metadata": {},
   "outputs": [],
   "source": [
    "### Session\n",
    "SERVER      = read_json('server.json')\n",
    "USER        = read_json('credentials.json')\n",
    "SESSION     = {**SERVER, **USER}"
   ]
  },
  {
   "cell_type": "code",
   "execution_count": 5,
   "metadata": {},
   "outputs": [
    {
     "name": "stdout",
     "output_type": "stream",
     "text": [
      "There are in total 1 emails to send.\n",
      "{'metadata': {'From': 'Gaang <gaang@gmail.com>', 'To': 'joao@tecnico.ulisboa.pt', 'Cc': None, 'Bcc': None, 'Reply-To': 'Gaang <gaang@gmail.com>', 'Date': 'default', 'Subject': '[ATLA] Candidatura'}, 'body': 'template_body/demo', 'fields': {'signature': 'template_body/signature', 'name': 'João', 'projects': None, 'teams': 'POWER', 'gender': 'M', '_id': '1'}}\n"
     ]
    }
   ],
   "source": [
    "unsent_emails   = get_unsent_emails(FILENAME_ALL,FILENAME_SENT,all_func=read_json,\n",
    "                                    query_keys=['_id'])\n",
    "sent_emails     = read_json(FILENAME_SENT)\n",
    "\n",
    "# Print information on unsent emails\n",
    "print(f'There are in total {len(unsent_emails)} emails to send.')\n",
    "\n",
    "for u in unsent_emails:\n",
    "    print(u)"
   ]
  },
  {
   "cell_type": "code",
   "execution_count": 6,
   "metadata": {},
   "outputs": [],
   "source": [
    "r = input('Proceed? Press \"y\" or indicate a number of mails to send, if not press any other key.')\n",
    "if r.lower() == 'y' or r.isdigit():\n",
    "    if r.isdigit():\n",
    "        r = int(r)\n",
    "    else:\n",
    "        r = None\n",
    "    new_emails = create_and_send_emails(unsent_emails,SESSION,custom_reciever=C_RECIEVER,N=r)\n",
    "    sent_emails = sent_emails + new_emails"
   ]
  },
  {
   "cell_type": "code",
   "execution_count": 7,
   "metadata": {},
   "outputs": [
    {
     "data": {
      "text/plain": [
       "[]"
      ]
     },
     "execution_count": 7,
     "metadata": {},
     "output_type": "execute_result"
    }
   ],
   "source": [
    "### Save sent emails\n",
    "write_json(FILENAME_SENT,sent_emails)"
   ]
  }
 ],
 "metadata": {
  "kernelspec": {
   "display_name": "Python 3",
   "language": "python",
   "name": "python3"
  },
  "language_info": {
   "codemirror_mode": {
    "name": "ipython",
    "version": 3
   },
   "file_extension": ".py",
   "mimetype": "text/x-python",
   "name": "python",
   "nbconvert_exporter": "python",
   "pygments_lexer": "ipython3",
   "version": "3.11.4"
  }
 },
 "nbformat": 4,
 "nbformat_minor": 2
}
