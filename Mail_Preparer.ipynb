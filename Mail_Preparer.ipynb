{
 "cells": [
  {
   "cell_type": "code",
   "execution_count": 18,
   "metadata": {},
   "outputs": [],
   "source": [
    "from library.file_manager   import read_cvs, read_json, write_json\n",
    "from library.basic_utils    import find_in_array_dict\n",
    "from library.mail           import merge_template_data"
   ]
  },
  {
   "cell_type": "code",
   "execution_count": 19,
   "metadata": {},
   "outputs": [],
   "source": [
    "PROJECT_EMAIL = [\n",
    "    {'projeto':'ATLAS','email':'<atlas@aerotec.tecnico.ulisboa.pt>'},\n",
    "    {'projeto':'Blue','email':'<blue@aerotec.tecnico.ulisboa.pt>'},\n",
    "    {'projeto':'RED','email':'<red@aerotec.tecnico.ulisboa.pt>'},\n",
    "    {'projeto':'Revista Aeroespacial','email':'<revista.aeroespacial@aerotec.tecnico.ulisboa.pt>'},\n",
    "    {'projeto':'Semana Aeroespacial','email':'<semana.aeroespacial@aerotec.tecnico.ulisboa.pt>'},\n",
    "    {'projeto':'WebDev','email':'<web.dev@aerotec.tecnico.ulisboa.pt>'},\n",
    "]"
   ]
  },
  {
   "cell_type": "code",
   "execution_count": 20,
   "metadata": {},
   "outputs": [],
   "source": [
    "def seperate_cand(all:list,templates=list):\n",
    "    good = list()\n",
    "    bad  = list()\n",
    "    for e in all:\n",
    "        aux = dict()\n",
    "        # Aux variable to help differentiate\n",
    "        aux['Passou']   = e['Aceitou']      == 'VERDADEIRO'\n",
    "        aux['Estrutura']= e['Estrutura']    == 'FALSO'\n",
    "        aux['Lab']      = e['Laboratório']  == 'FALSO'\n",
    "        aux['Passou']   = aux['Passou'] and (aux['Lab'] or aux['Estrutura'])\n",
    "        # Differentiation\n",
    "        i = 0\n",
    "        if aux['Passou']:\n",
    "            i = 0\n",
    "        else:\n",
    "            i = 1\n",
    "        \n",
    "        # Assignemnt to usefull fields\n",
    "        # Metadata\n",
    "        e['To']      = e['email'].strip()\n",
    "\n",
    "        # Fields\n",
    "        e['gender']     = e['gender']\n",
    "        e['name']       = e['name'].strip()\n",
    "        e['formacoes']  = list()\n",
    "        if aux['Estrutura']:\n",
    "            e['formacoes'].append('Estrutura do Núcleo')\n",
    "        if aux['Lab']:\n",
    "            e['formacoes'].append('Organização do Laboratório')\n",
    "        e['formacoes'] = ' e '.join(e['formacoes'])\n",
    "        mail_substance = merge_template_data(e,templates[i])\n",
    "        \n",
    "        # Appending\n",
    "        if i == 0:\n",
    "            good.append(mail_substance)\n",
    "        else:\n",
    "            bad.append(mail_substance)\n",
    "    \n",
    "    return good, bad"
   ]
  },
  {
   "cell_type": "code",
   "execution_count": 21,
   "metadata": {},
   "outputs": [],
   "source": [
    "# Filenames\n",
    "FILENAME_ALL    = './demo.csv'\n",
    "FILENAME_A      = './localhost_manual/demo.json'\n",
    "FILENAME_B      = None\n",
    "TEMPLATE_A      = read_json('./template_json/demo.json')\n",
    "TEMPLATE_B      = None"
   ]
  },
  {
   "cell_type": "code",
   "execution_count": 22,
   "metadata": {},
   "outputs": [
    {
     "ename": "AttributeError",
     "evalue": "'list' object has no attribute 'keys'",
     "output_type": "error",
     "traceback": [
      "\u001b[1;31m---------------------------------------------------------------------------\u001b[0m",
      "\u001b[1;31mAttributeError\u001b[0m                            Traceback (most recent call last)",
      "Cell \u001b[1;32mIn[22], line 2\u001b[0m\n\u001b[0;32m      1\u001b[0m all_cand            \u001b[38;5;241m=\u001b[39m read_cvs(FILENAME_ALL)\n\u001b[1;32m----> 2\u001b[0m good_cand, bad_cand \u001b[38;5;241m=\u001b[39m \u001b[43mseperate_cand\u001b[49m\u001b[43m(\u001b[49m\u001b[43mall_cand\u001b[49m\u001b[43m,\u001b[49m\u001b[43mtemplates\u001b[49m\u001b[38;5;241;43m=\u001b[39;49m\u001b[43m[\u001b[49m\u001b[43mTEMPLATE_A\u001b[49m\u001b[43m,\u001b[49m\u001b[43mTEMPLATE_B\u001b[49m\u001b[43m]\u001b[49m\u001b[43m)\u001b[49m\n",
      "Cell \u001b[1;32mIn[20], line 31\u001b[0m, in \u001b[0;36mseperate_cand\u001b[1;34m(all, templates)\u001b[0m\n\u001b[0;32m     29\u001b[0m     e[\u001b[38;5;124m'\u001b[39m\u001b[38;5;124mformacoes\u001b[39m\u001b[38;5;124m'\u001b[39m]\u001b[38;5;241m.\u001b[39mappend(\u001b[38;5;124m'\u001b[39m\u001b[38;5;124mOrganização do Laboratório\u001b[39m\u001b[38;5;124m'\u001b[39m)\n\u001b[0;32m     30\u001b[0m e[\u001b[38;5;124m'\u001b[39m\u001b[38;5;124mformacoes\u001b[39m\u001b[38;5;124m'\u001b[39m] \u001b[38;5;241m=\u001b[39m \u001b[38;5;124m'\u001b[39m\u001b[38;5;124m e \u001b[39m\u001b[38;5;124m'\u001b[39m\u001b[38;5;241m.\u001b[39mjoin(e[\u001b[38;5;124m'\u001b[39m\u001b[38;5;124mformacoes\u001b[39m\u001b[38;5;124m'\u001b[39m])\n\u001b[1;32m---> 31\u001b[0m mail_substance \u001b[38;5;241m=\u001b[39m \u001b[43mmerge_template_data\u001b[49m\u001b[43m(\u001b[49m\u001b[43me\u001b[49m\u001b[43m,\u001b[49m\u001b[43mtemplates\u001b[49m\u001b[43m[\u001b[49m\u001b[43mi\u001b[49m\u001b[43m]\u001b[49m\u001b[43m)\u001b[49m\n\u001b[0;32m     33\u001b[0m \u001b[38;5;66;03m# Appending\u001b[39;00m\n\u001b[0;32m     34\u001b[0m \u001b[38;5;28;01mif\u001b[39;00m i \u001b[38;5;241m==\u001b[39m \u001b[38;5;241m0\u001b[39m:\n",
      "File \u001b[1;32mc:\\Users\\José\\Documents\\AeroTéc\\EmailSender\\library\\mail.py:105\u001b[0m, in \u001b[0;36mmerge_template_data\u001b[1;34m(data, template)\u001b[0m\n\u001b[0;32m    103\u001b[0m     merger[section] \u001b[38;5;241m=\u001b[39m \u001b[38;5;28mdict\u001b[39m()\n\u001b[0;32m    104\u001b[0m \u001b[38;5;66;03m# Fillers\u001b[39;00m\n\u001b[1;32m--> 105\u001b[0m merger          \u001b[38;5;241m=\u001b[39m \u001b[43mfill_data\u001b[49m\u001b[43m(\u001b[49m\u001b[43mmerger\u001b[49m\u001b[43m,\u001b[49m\u001b[43mtemplate\u001b[49m\u001b[43m,\u001b[49m\u001b[43minitial\u001b[49m\u001b[38;5;241;43m=\u001b[39;49m\u001b[38;5;28;43;01mTrue\u001b[39;49;00m\u001b[43m)\u001b[49m\n\u001b[0;32m    106\u001b[0m merger[\u001b[38;5;124m'\u001b[39m\u001b[38;5;124mbody\u001b[39m\u001b[38;5;124m'\u001b[39m]  \u001b[38;5;241m=\u001b[39m template[\u001b[38;5;124m'\u001b[39m\u001b[38;5;124mbody\u001b[39m\u001b[38;5;124m'\u001b[39m]\n\u001b[0;32m    107\u001b[0m merger          \u001b[38;5;241m=\u001b[39m fill_data(merger,data)\n",
      "File \u001b[1;32mc:\\Users\\José\\Documents\\AeroTéc\\EmailSender\\library\\mail.py:86\u001b[0m, in \u001b[0;36mfill_data\u001b[1;34m(d_init, d_in, initial)\u001b[0m\n\u001b[0;32m     84\u001b[0m \u001b[38;5;28;01mif\u001b[39;00m d_init \u001b[38;5;241m==\u001b[39m \u001b[38;5;28;01mNone\u001b[39;00m:\n\u001b[0;32m     85\u001b[0m     \u001b[38;5;28;01mreturn\u001b[39;00m d_in\n\u001b[1;32m---> 86\u001b[0m \u001b[38;5;28;01mfor\u001b[39;00m k, v \u001b[38;5;129;01min\u001b[39;00m \u001b[38;5;28mzip\u001b[39m(\u001b[38;5;28mlist\u001b[39m(\u001b[43md_in\u001b[49m\u001b[38;5;241;43m.\u001b[39;49m\u001b[43mkeys\u001b[49m()),\u001b[38;5;28mlist\u001b[39m(d_in\u001b[38;5;241m.\u001b[39mvalues())):\n\u001b[0;32m     87\u001b[0m     r \u001b[38;5;241m=\u001b[39m \u001b[38;5;28;01mTrue\u001b[39;00m\n\u001b[0;32m     88\u001b[0m     \u001b[38;5;28;01mif\u001b[39;00m k \u001b[38;5;241m==\u001b[39m \u001b[38;5;124m'\u001b[39m\u001b[38;5;124mbody\u001b[39m\u001b[38;5;124m'\u001b[39m:\n",
      "\u001b[1;31mAttributeError\u001b[0m: 'list' object has no attribute 'keys'"
     ]
    }
   ],
   "source": [
    "all_cand            = read_cvs(FILENAME_ALL)\n",
    "good_cand, bad_cand = seperate_cand(all_cand,templates=[TEMPLATE_A,TEMPLATE_B])"
   ]
  },
  {
   "cell_type": "code",
   "execution_count": null,
   "metadata": {},
   "outputs": [
    {
     "name": "stdout",
     "output_type": "stream",
     "text": [
      "No file was indicated.\n"
     ]
    },
    {
     "data": {
      "text/plain": [
       "[]"
      ]
     },
     "execution_count": 6,
     "metadata": {},
     "output_type": "execute_result"
    }
   ],
   "source": [
    "### Save sent emails\n",
    "write_json(FILENAME_A,good_cand)\n",
    "write_json(FILENAME_B,bad_cand)"
   ]
  }
 ],
 "metadata": {
  "kernelspec": {
   "display_name": "Python 3",
   "language": "python",
   "name": "python3"
  },
  "language_info": {
   "codemirror_mode": {
    "name": "ipython",
    "version": 3
   },
   "file_extension": ".py",
   "mimetype": "text/x-python",
   "name": "python",
   "nbconvert_exporter": "python",
   "pygments_lexer": "ipython3",
   "version": "3.11.4"
  }
 },
 "nbformat": 4,
 "nbformat_minor": 2
}
